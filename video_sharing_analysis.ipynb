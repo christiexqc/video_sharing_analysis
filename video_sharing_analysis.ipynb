{
 "cells": [
  {
   "cell_type": "code",
   "execution_count": 1,
   "metadata": {},
   "outputs": [
    {
     "name": "stderr",
     "output_type": "stream",
     "text": [
      "//miniconda3/lib/python3.7/site-packages/statsmodels/tools/_testing.py:19: FutureWarning: pandas.util.testing is deprecated. Use the functions in the public API at pandas.testing instead.\n",
      "  import pandas.util.testing as tm\n"
     ]
    }
   ],
   "source": [
    "import pandas\n",
    "import numpy as np\n",
    "import matplotlib.pyplot as plt\n",
    "import seaborn as sns\n",
    "pandas.set_option('display.max_columns', 10)\n",
    "pandas.set_option('display.width', 350)"
   ]
  },
  {
   "cell_type": "code",
   "execution_count": 2,
   "metadata": {},
   "outputs": [],
   "source": [
    "#read the two files\n",
    "video_count=pandas.read_csv(\"./dataset/video_sharing/video_count.csv\")"
   ]
  },
  {
   "cell_type": "code",
   "execution_count": 3,
   "metadata": {},
   "outputs": [
    {
     "data": {
      "text/html": [
       "<div>\n",
       "<style scoped>\n",
       "    .dataframe tbody tr th:only-of-type {\n",
       "        vertical-align: middle;\n",
       "    }\n",
       "\n",
       "    .dataframe tbody tr th {\n",
       "        vertical-align: top;\n",
       "    }\n",
       "\n",
       "    .dataframe thead th {\n",
       "        text-align: right;\n",
       "    }\n",
       "</style>\n",
       "<table border=\"1\" class=\"dataframe\">\n",
       "  <thead>\n",
       "    <tr style=\"text-align: right;\">\n",
       "      <th></th>\n",
       "      <th>video_id</th>\n",
       "      <th>count</th>\n",
       "      <th>date</th>\n",
       "    </tr>\n",
       "  </thead>\n",
       "  <tbody>\n",
       "    <tr>\n",
       "      <th>0</th>\n",
       "      <td>2303</td>\n",
       "      <td>22</td>\n",
       "      <td>2015-01-07</td>\n",
       "    </tr>\n",
       "    <tr>\n",
       "      <th>1</th>\n",
       "      <td>1193</td>\n",
       "      <td>54854</td>\n",
       "      <td>2015-01-12</td>\n",
       "    </tr>\n",
       "    <tr>\n",
       "      <th>2</th>\n",
       "      <td>1219</td>\n",
       "      <td>1788779</td>\n",
       "      <td>2015-01-03</td>\n",
       "    </tr>\n",
       "    <tr>\n",
       "      <th>3</th>\n",
       "      <td>1472</td>\n",
       "      <td>234</td>\n",
       "      <td>2015-01-04</td>\n",
       "    </tr>\n",
       "    <tr>\n",
       "      <th>4</th>\n",
       "      <td>2947</td>\n",
       "      <td>14407</td>\n",
       "      <td>2015-01-08</td>\n",
       "    </tr>\n",
       "  </tbody>\n",
       "</table>\n",
       "</div>"
      ],
      "text/plain": [
       "   video_id    count        date\n",
       "0      2303       22  2015-01-07\n",
       "1      1193    54854  2015-01-12\n",
       "2      1219  1788779  2015-01-03\n",
       "3      1472      234  2015-01-04\n",
       "4      2947    14407  2015-01-08"
      ]
     },
     "execution_count": 3,
     "metadata": {},
     "output_type": "execute_result"
    }
   ],
   "source": [
    "video_count.head()"
   ]
  },
  {
   "cell_type": "code",
   "execution_count": 6,
   "metadata": {},
   "outputs": [
    {
     "data": {
      "text/plain": [
       "(41775, 3)"
      ]
     },
     "execution_count": 6,
     "metadata": {},
     "output_type": "execute_result"
    }
   ],
   "source": [
    "video_count.shape"
   ]
  },
  {
   "cell_type": "code",
   "execution_count": 9,
   "metadata": {},
   "outputs": [
    {
     "data": {
      "text/plain": [
       "2785"
      ]
     },
     "execution_count": 9,
     "metadata": {},
     "output_type": "execute_result"
    }
   ],
   "source": [
    "video_count.video_id.nunique()"
   ]
  },
  {
   "cell_type": "code",
   "execution_count": 4,
   "metadata": {},
   "outputs": [],
   "source": [
    "video_features=pandas.read_csv(\"./dataset/video_sharing/video_features.csv\")"
   ]
  },
  {
   "cell_type": "code",
   "execution_count": 5,
   "metadata": {},
   "outputs": [
    {
     "data": {
      "text/html": [
       "<div>\n",
       "<style scoped>\n",
       "    .dataframe tbody tr th:only-of-type {\n",
       "        vertical-align: middle;\n",
       "    }\n",
       "\n",
       "    .dataframe tbody tr th {\n",
       "        vertical-align: top;\n",
       "    }\n",
       "\n",
       "    .dataframe thead th {\n",
       "        text-align: right;\n",
       "    }\n",
       "</style>\n",
       "<table border=\"1\" class=\"dataframe\">\n",
       "  <thead>\n",
       "    <tr style=\"text-align: right;\">\n",
       "      <th></th>\n",
       "      <th>video_id</th>\n",
       "      <th>video_length</th>\n",
       "      <th>video_language</th>\n",
       "      <th>video_upload_date</th>\n",
       "      <th>video_quality</th>\n",
       "    </tr>\n",
       "  </thead>\n",
       "  <tbody>\n",
       "    <tr>\n",
       "      <th>0</th>\n",
       "      <td>2374</td>\n",
       "      <td>1760</td>\n",
       "      <td>Cn</td>\n",
       "      <td>2014-12-06</td>\n",
       "      <td>480p</td>\n",
       "    </tr>\n",
       "    <tr>\n",
       "      <th>1</th>\n",
       "      <td>1897</td>\n",
       "      <td>489</td>\n",
       "      <td>Cn</td>\n",
       "      <td>2014-12-10</td>\n",
       "      <td>720p</td>\n",
       "    </tr>\n",
       "    <tr>\n",
       "      <th>2</th>\n",
       "      <td>2386</td>\n",
       "      <td>1273</td>\n",
       "      <td>Es</td>\n",
       "      <td>2014-12-05</td>\n",
       "      <td>480p</td>\n",
       "    </tr>\n",
       "    <tr>\n",
       "      <th>3</th>\n",
       "      <td>2912</td>\n",
       "      <td>986</td>\n",
       "      <td>Es</td>\n",
       "      <td>2014-12-10</td>\n",
       "      <td>240p</td>\n",
       "    </tr>\n",
       "    <tr>\n",
       "      <th>4</th>\n",
       "      <td>2432</td>\n",
       "      <td>1050</td>\n",
       "      <td>Other</td>\n",
       "      <td>2014-12-10</td>\n",
       "      <td>480p</td>\n",
       "    </tr>\n",
       "  </tbody>\n",
       "</table>\n",
       "</div>"
      ],
      "text/plain": [
       "   video_id  video_length video_language video_upload_date video_quality\n",
       "0      2374          1760             Cn        2014-12-06          480p\n",
       "1      1897           489             Cn        2014-12-10          720p\n",
       "2      2386          1273             Es        2014-12-05          480p\n",
       "3      2912           986             Es        2014-12-10          240p\n",
       "4      2432          1050          Other        2014-12-10          480p"
      ]
     },
     "execution_count": 5,
     "metadata": {},
     "output_type": "execute_result"
    }
   ],
   "source": [
    "video_features.head()"
   ]
  },
  {
   "cell_type": "code",
   "execution_count": 13,
   "metadata": {},
   "outputs": [
    {
     "name": "stdout",
     "output_type": "stream",
     "text": [
      "<class 'pandas.core.frame.DataFrame'>\n",
      "RangeIndex: 2785 entries, 0 to 2784\n",
      "Data columns (total 5 columns):\n",
      " #   Column             Non-Null Count  Dtype \n",
      "---  ------             --------------  ----- \n",
      " 0   video_id           2785 non-null   int64 \n",
      " 1   video_length       2785 non-null   int64 \n",
      " 2   video_language     2785 non-null   object\n",
      " 3   video_upload_date  2785 non-null   object\n",
      " 4   video_quality      2785 non-null   object\n",
      "dtypes: int64(2), object(3)\n",
      "memory usage: 108.9+ KB\n"
     ]
    }
   ],
   "source": [
    "video_features.info()"
   ]
  },
  {
   "cell_type": "code",
   "execution_count": 8,
   "metadata": {},
   "outputs": [
    {
     "data": {
      "text/plain": [
       "(2785, 5)"
      ]
     },
     "execution_count": 8,
     "metadata": {},
     "output_type": "execute_result"
    }
   ],
   "source": [
    "video_features.shape"
   ]
  },
  {
   "cell_type": "code",
   "execution_count": 10,
   "metadata": {},
   "outputs": [],
   "source": [
    "#join them on video_id\n",
    "data=pandas.merge(video_count, video_features,on='video_id', how='left')"
   ]
  },
  {
   "cell_type": "code",
   "execution_count": 11,
   "metadata": {},
   "outputs": [
    {
     "data": {
      "text/plain": [
       "(41775, 7)"
      ]
     },
     "execution_count": 11,
     "metadata": {},
     "output_type": "execute_result"
    }
   ],
   "source": [
    "data.shape"
   ]
  },
  {
   "cell_type": "code",
   "execution_count": 12,
   "metadata": {},
   "outputs": [
    {
     "data": {
      "text/html": [
       "<div>\n",
       "<style scoped>\n",
       "    .dataframe tbody tr th:only-of-type {\n",
       "        vertical-align: middle;\n",
       "    }\n",
       "\n",
       "    .dataframe tbody tr th {\n",
       "        vertical-align: top;\n",
       "    }\n",
       "\n",
       "    .dataframe thead th {\n",
       "        text-align: right;\n",
       "    }\n",
       "</style>\n",
       "<table border=\"1\" class=\"dataframe\">\n",
       "  <thead>\n",
       "    <tr style=\"text-align: right;\">\n",
       "      <th></th>\n",
       "      <th>video_id</th>\n",
       "      <th>count</th>\n",
       "      <th>date</th>\n",
       "      <th>video_length</th>\n",
       "      <th>video_language</th>\n",
       "      <th>video_upload_date</th>\n",
       "      <th>video_quality</th>\n",
       "    </tr>\n",
       "  </thead>\n",
       "  <tbody>\n",
       "    <tr>\n",
       "      <th>count</th>\n",
       "      <td>41775.000000</td>\n",
       "      <td>4.177500e+04</td>\n",
       "      <td>41775</td>\n",
       "      <td>41775.000000</td>\n",
       "      <td>41775</td>\n",
       "      <td>41775</td>\n",
       "      <td>41775</td>\n",
       "    </tr>\n",
       "    <tr>\n",
       "      <th>unique</th>\n",
       "      <td>NaN</td>\n",
       "      <td>NaN</td>\n",
       "      <td>15</td>\n",
       "      <td>NaN</td>\n",
       "      <td>6</td>\n",
       "      <td>23</td>\n",
       "      <td>5</td>\n",
       "    </tr>\n",
       "    <tr>\n",
       "      <th>top</th>\n",
       "      <td>NaN</td>\n",
       "      <td>NaN</td>\n",
       "      <td>2015-01-15</td>\n",
       "      <td>NaN</td>\n",
       "      <td>Cn</td>\n",
       "      <td>2014-12-10</td>\n",
       "      <td>1080p</td>\n",
       "    </tr>\n",
       "    <tr>\n",
       "      <th>freq</th>\n",
       "      <td>NaN</td>\n",
       "      <td>NaN</td>\n",
       "      <td>2785</td>\n",
       "      <td>NaN</td>\n",
       "      <td>12570</td>\n",
       "      <td>3630</td>\n",
       "      <td>11940</td>\n",
       "    </tr>\n",
       "    <tr>\n",
       "      <th>mean</th>\n",
       "      <td>1498.673250</td>\n",
       "      <td>6.243710e+05</td>\n",
       "      <td>NaN</td>\n",
       "      <td>684.813285</td>\n",
       "      <td>NaN</td>\n",
       "      <td>NaN</td>\n",
       "      <td>NaN</td>\n",
       "    </tr>\n",
       "    <tr>\n",
       "      <th>std</th>\n",
       "      <td>864.094856</td>\n",
       "      <td>8.879097e+05</td>\n",
       "      <td>NaN</td>\n",
       "      <td>422.420884</td>\n",
       "      <td>NaN</td>\n",
       "      <td>NaN</td>\n",
       "      <td>NaN</td>\n",
       "    </tr>\n",
       "    <tr>\n",
       "      <th>min</th>\n",
       "      <td>1.000000</td>\n",
       "      <td>1.000000e+00</td>\n",
       "      <td>NaN</td>\n",
       "      <td>9.000000</td>\n",
       "      <td>NaN</td>\n",
       "      <td>NaN</td>\n",
       "      <td>NaN</td>\n",
       "    </tr>\n",
       "    <tr>\n",
       "      <th>25%</th>\n",
       "      <td>754.000000</td>\n",
       "      <td>9.095500e+03</td>\n",
       "      <td>NaN</td>\n",
       "      <td>363.000000</td>\n",
       "      <td>NaN</td>\n",
       "      <td>NaN</td>\n",
       "      <td>NaN</td>\n",
       "    </tr>\n",
       "    <tr>\n",
       "      <th>50%</th>\n",
       "      <td>1492.000000</td>\n",
       "      <td>1.795580e+05</td>\n",
       "      <td>NaN</td>\n",
       "      <td>631.000000</td>\n",
       "      <td>NaN</td>\n",
       "      <td>NaN</td>\n",
       "      <td>NaN</td>\n",
       "    </tr>\n",
       "    <tr>\n",
       "      <th>75%</th>\n",
       "      <td>2236.000000</td>\n",
       "      <td>9.043615e+05</td>\n",
       "      <td>NaN</td>\n",
       "      <td>973.000000</td>\n",
       "      <td>NaN</td>\n",
       "      <td>NaN</td>\n",
       "      <td>NaN</td>\n",
       "    </tr>\n",
       "    <tr>\n",
       "      <th>max</th>\n",
       "      <td>3000.000000</td>\n",
       "      <td>6.070570e+06</td>\n",
       "      <td>NaN</td>\n",
       "      <td>2114.000000</td>\n",
       "      <td>NaN</td>\n",
       "      <td>NaN</td>\n",
       "      <td>NaN</td>\n",
       "    </tr>\n",
       "  </tbody>\n",
       "</table>\n",
       "</div>"
      ],
      "text/plain": [
       "            video_id         count        date  video_length video_language video_upload_date video_quality\n",
       "count   41775.000000  4.177500e+04       41775  41775.000000          41775             41775         41775\n",
       "unique           NaN           NaN          15           NaN              6                23             5\n",
       "top              NaN           NaN  2015-01-15           NaN             Cn        2014-12-10         1080p\n",
       "freq             NaN           NaN        2785           NaN          12570              3630         11940\n",
       "mean     1498.673250  6.243710e+05         NaN    684.813285            NaN               NaN           NaN\n",
       "std       864.094856  8.879097e+05         NaN    422.420884            NaN               NaN           NaN\n",
       "min         1.000000  1.000000e+00         NaN      9.000000            NaN               NaN           NaN\n",
       "25%       754.000000  9.095500e+03         NaN    363.000000            NaN               NaN           NaN\n",
       "50%      1492.000000  1.795580e+05         NaN    631.000000            NaN               NaN           NaN\n",
       "75%      2236.000000  9.043615e+05         NaN    973.000000            NaN               NaN           NaN\n",
       "max      3000.000000  6.070570e+06         NaN   2114.000000            NaN               NaN           NaN"
      ]
     },
     "execution_count": 12,
     "metadata": {},
     "output_type": "execute_result"
    }
   ],
   "source": [
    "data.describe(include='all')"
   ]
  },
  {
   "cell_type": "code",
   "execution_count": 14,
   "metadata": {},
   "outputs": [
    {
     "data": {
      "text/plain": [
       "<matplotlib.axes._subplots.AxesSubplot at 0x1a1e308518>"
      ]
     },
     "execution_count": 14,
     "metadata": {},
     "output_type": "execute_result"
    },
    {
     "data": {
      "image/png": "[encoded data removed]",
      "text/plain": [
       "<Figure size 432x288 with 2 Axes>"
      ]
     },
     "metadata": {
      "needs_background": "light"
     },
     "output_type": "display_data"
    }
   ],
   "source": [
    "sns.heatmap(data.isnull(),cmap = 'YlGnBu')"
   ]
  },
  {
   "cell_type": "markdown",
   "metadata": {},
   "source": [
    "Q: Classify each video into one these 3 categories: “Hot”, “Stable and Popular”, “Everything Else”\n",
    "\n",
    "Hot is defined as trending up. Therefore, for each video, we can look at the view count percentage change day by day. And pick the videos with the highest average."
   ]
  },
  {
   "cell_type": "code",
   "execution_count": 15,
   "metadata": {},
   "outputs": [
    {
     "name": "stdout",
     "output_type": "stream",
     "text": [
      "[1]\n"
     ]
    }
   ],
   "source": [
    "#For all video_ids, are all dates consecutive? Or do we have missing days?\n",
    "#Firstly, we sort by date\n",
    "data_class = data.sort_values(by='date')\n",
    "  \n",
    "#Then we check that date difference for each video_id between consecutive rows is always one\n",
    "consecutive_days = data_class.groupby('video_id')['date'].transform(lambda x: pandas.to_datetime(x).diff()) \n",
    "  \n",
    "#Good. All days are consecutives\n",
    "print(consecutive_days.dropna().unique().astype('timedelta64[D]'))"
   ]
  },
  {
   "cell_type": "code",
   "execution_count": 16,
   "metadata": {},
   "outputs": [
    {
     "data": {
      "text/plain": [
       "18227      NaT\n",
       "21967      NaT\n",
       "5581       NaT\n",
       "5583       NaT\n",
       "21972      NaT\n",
       "         ...  \n",
       "24676   1 days\n",
       "30588   1 days\n",
       "8588    1 days\n",
       "39203   1 days\n",
       "32395   1 days\n",
       "Name: date, Length: 41775, dtype: timedelta64[ns]"
      ]
     },
     "execution_count": 16,
     "metadata": {},
     "output_type": "execute_result"
    }
   ],
   "source": [
    "consecutive_days"
   ]
  },
  {
   "cell_type": "code",
   "execution_count": 18,
   "metadata": {},
   "outputs": [],
   "source": [
    "#So we can just estimate percentage change day by day by taking (current_row/previous_row) - 1\n",
    "data_class['pct_change'] = data_class.groupby('video_id')['count'].apply(lambda x: x/x.shift(1)-1)\n",
    "  \n",
    "#And now we can take the average of pct_change as well as the average count overall\n",
    "data_class = data_class.groupby('video_id').apply( lambda x: pandas.Series({\n",
    "                            'avg_pct_change': x['pct_change'].mean(),\n",
    "                            'avg_count': x['count'].mean() })\n",
    ").reset_index() \n"
   ]
  },
  {
   "cell_type": "code",
   "execution_count": 19,
   "metadata": {},
   "outputs": [
    {
     "data": {
      "text/plain": [
       "<matplotlib.axes._subplots.AxesSubplot at 0x1a1dea6cf8>"
      ]
     },
     "execution_count": 19,
     "metadata": {},
     "output_type": "execute_result"
    },
    {
     "data": {
      "image/png": "[encoded data removed]",
      "text/plain": [
       "<Figure size 432x288 with 1 Axes>"
      ]
     },
     "metadata": {
      "needs_background": "light"
     },
     "output_type": "display_data"
    }
   ],
   "source": [
    "#Let's plot avg_pct_change\n",
    "sns.distplot(data_class['avg_pct_change'], kde=False)"
   ]
  },
  {
   "cell_type": "markdown",
   "metadata": {},
   "source": [
    "There seems to be two clear groups: one above 0.2 and one below. Let’s define as “hot” all videos whose average percentage change is > 0.2.\n",
    "\n",
    "The next step is separating “Stable and Popular” (i.e. view count percentage change is flat, but count is very high) vs everything else.\n"
   ]
  },
  {
   "cell_type": "code",
   "execution_count": 20,
   "metadata": {},
   "outputs": [
    {
     "data": {
      "image/png": "[encoded data removed]",
      "text/plain": [
       "<Figure size 432x288 with 1 Axes>"
      ]
     },
     "metadata": {
      "needs_background": "light"
     },
     "output_type": "display_data"
    }
   ],
   "source": [
    "#Let's plot all remaining videos across those two dimensions to see if we can find the two groups manually\n",
    "sns.scatterplot(data=data_class.query('avg_pct_change<0.2'), x=\"avg_pct_change\", y=\"avg_count\")\n",
    "plt.show()"
   ]
  },
  {
   "cell_type": "markdown",
   "metadata": {},
   "source": [
    "In terms of percentage change, there seems to be a clear cut-off around -0.05. We can define videos whose percentage change is between -0.05 and +0.05 as stable. After all, it means that view count for these videos is within 5%, which is a pretty safe value for “stable”\n",
    "Regarding absolute view count, there doesn’t appear to be a clear cut-off. Looking at the plot, it looks reasonable to pick a cut-off around 2 millions. All videos trending down are below that value as well as most of the stable videos."
   ]
  },
  {
   "cell_type": "code",
   "execution_count": 21,
   "metadata": {},
   "outputs": [],
   "source": [
    "#Let's assign the classes using the strategies described above\n",
    "data_class['class'] = np.where(data_class['avg_pct_change']>0.2, \"hot\",\n",
    "                      np.where((data_class['avg_pct_change']>-0.05) & (data_class['avg_count']>2000000), \"stable and popular\", \"everything else\"))\n"
   ]
  },
  {
   "cell_type": "code",
   "execution_count": 22,
   "metadata": {},
   "outputs": [
    {
     "name": "stdout",
     "output_type": "stream",
     "text": [
      "everything else       1982\n",
      "hot                    500\n",
      "stable and popular     303\n",
      "Name: class, dtype: int64\n"
     ]
    }
   ],
   "source": [
    "#Let's check the count\n",
    "print(data_class['class'].value_counts())"
   ]
  },
  {
   "cell_type": "code",
   "execution_count": 23,
   "metadata": {},
   "outputs": [
    {
     "data": {
      "image/png": "[encoded data removed]",
      "text/plain": [
       "<Figure size 432x288 with 1 Axes>"
      ]
     },
     "metadata": {
      "needs_background": "light"
     },
     "output_type": "display_data"
    }
   ],
   "source": [
    "#Let's plot the clusters\n",
    "sns.scatterplot(data=data_class, x=\"avg_pct_change\", y=\"avg_count\", hue=\"class\")\n",
    "plt.show()"
   ]
  },
  {
   "cell_type": "markdown",
   "metadata": {},
   "source": [
    "Final results make sense from a visual standpoint. Another approach could have been going by percentile. That is, deciding that the top X% would have been considered high view counts and high percentage change. And then create the groups accordingly."
   ]
  },
  {
   "cell_type": "markdown",
   "metadata": {},
   "source": [
    "Q: What are the main characteristics of the “hot videos”?\n",
    "\n",
    "Since we already have the labels, we can simply build a machine learning classifier trying to separate hot videos from the other ones. We can use a decision tree here since we care mainly about the descriptive statistics part and less about the actual prediction."
   ]
  },
  {
   "cell_type": "code",
   "execution_count": 24,
   "metadata": {},
   "outputs": [],
   "source": [
    "import graphviz\n",
    "from sklearn.tree import DecisionTreeClassifier\n",
    "from sklearn.tree import export_graphviz\n",
    "from graphviz import Source\n",
    "  \n",
    "#Add label to data\n",
    "data_tree=pandas.merge(left=video_features, right=data_class[[\"video_id\", \"class\"]], how='left')\n",
    "data_tree['class'] = np.where(data_tree['class']==\"hot\", 1, 0)\n",
    "  \n",
    "#Extract week of the year and day of the week from date\n",
    "data_tree['upload_weekday']  = pandas.to_datetime(data_tree['video_upload_date']).dt.strftime('%A')\n",
    "data_tree['upload_weekyear'] = pandas.to_datetime(data_tree['video_upload_date']).dt.strftime('%U').astype(int)\n",
    "del data_tree['video_upload_date'] \n",
    "del data_tree['video_id']\n",
    "  \n",
    "#prepare the data for the model by creating dummy vars and removing the label\n",
    "data_dummy = pandas.get_dummies(data_tree, drop_first=True)\n",
    "train_cols = data_dummy.drop('class', axis=1)\n",
    "  \n",
    "#build the tree\n",
    "tree=DecisionTreeClassifier(\n",
    "    #set max tree dept at 4. Bigger than that it just becomes too messy\n",
    "    max_depth=4,\n",
    "    #change weights given that we have unbalanced classes. Our data set is now perfectly balanced. It makes easier to look at tree output\n",
    "    class_weight=\"balanced\",\n",
    "    #only split if it's worthwhile. The default value of 0 means always split no matter what if you can increase overall performance, which might lead to irrelevant splits\n",
    "    min_impurity_decrease = 0.001\n",
    "    )\n",
    "tree.fit(train_cols,data_dummy['class'])\n",
    "DecisionTreeClassifier(class_weight='balanced', criterion='gini', max_depth=4,\n",
    "            max_features=None, max_leaf_nodes=None,\n",
    "            min_impurity_decrease=0.001, min_impurity_split=None,\n",
    "            min_samples_leaf=1, min_samples_split=2,\n",
    "            min_weight_fraction_leaf=0.0, presort=False, random_state=None,\n",
    "            splitter='best')\n",
    "#visualize it\n",
    "export_graphviz(tree, out_file=\"tree_video_sharing.dot\", feature_names=train_cols.columns, proportion=True, rotate=True)\n",
    "with open(\"tree_video_sharing.dot\") as f:\n",
    "    dot_graph = f.read()\n"
   ]
  },
  {
   "cell_type": "code",
   "execution_count": 25,
   "metadata": {},
   "outputs": [
    {
     "data": {
      "text/plain": [
       "'tree_video_sharing.dot.pdf'"
      ]
     },
     "execution_count": 25,
     "metadata": {},
     "output_type": "execute_result"
    }
   ],
   "source": [
    "s = Source.from_file(\"tree_video_sharing.dot\")\n",
    "s.view()"
   ]
  },
  {
   "cell_type": "markdown",
   "metadata": {},
   "source": [
    "The tree conclusions are pretty clear. By far the main thing is that Hot videos cannot be the old ones (first split). This is not surprising as hot videos tend to be the ones recently uploaded. After all, hot videos are defined as those with a very high video count increase day by day (>20%). And you cannot really grow at that rate for too long.\n",
    "That being said, that is not too actionable. A possible insight based on that would be suggesting users to often upload new videos, given that the “hotness life cycle” is pretty short. But beside that, what are the actual characteristics of a video that make it more likely to become hot?\n",
    "Let’s rebuild the tree w/o the time-related variables."
   ]
  },
  {
   "cell_type": "code",
   "execution_count": 26,
   "metadata": {},
   "outputs": [
    {
     "data": {
      "text/plain": [
       "'tree_video_sharing_no_time.dot.pdf'"
      ]
     },
     "execution_count": 26,
     "metadata": {},
     "output_type": "execute_result"
    }
   ],
   "source": [
    "#build the tree w/o time variables\n",
    "data_dummy = pandas.get_dummies(data_tree[['video_length', 'video_language', 'video_quality', 'class']], drop_first=True)\n",
    "train_cols = data_dummy.drop('class', axis=1)\n",
    "  \n",
    "#build the tree\n",
    "tree_no_time=DecisionTreeClassifier(\n",
    "    #set max tree dept at 4. Bigger than that it just becomes too messy\n",
    "    max_depth=4,\n",
    "    #change weights given that we have unbalanced classes. Our data set is now perfectly balanced. It makes easier to look at tree output\n",
    "    class_weight=\"balanced\",\n",
    "    #only split if it's worthwhile. The default value of 0 means always split no matter what if you can increase overall performance, which might lead to irrelevant splits\n",
    "    min_impurity_decrease = 0.001\n",
    "    )\n",
    "tree_no_time.fit(train_cols,data_dummy['class'])\n",
    "DecisionTreeClassifier(class_weight='balanced', criterion='gini', max_depth=4,\n",
    "            max_features=None, max_leaf_nodes=None,\n",
    "            min_impurity_decrease=0.001, min_impurity_split=None,\n",
    "            min_samples_leaf=1, min_samples_split=2,\n",
    "            min_weight_fraction_leaf=0.0, presort=False, random_state=None,\n",
    "            splitter='best')\n",
    "#visualize it\n",
    "export_graphviz(tree_no_time, out_file=\"tree_video_sharing_no_time.dot\", feature_names=train_cols.columns, proportion=True, rotate=True)\n",
    "with open(\"tree_video_sharing_no_time.dot\") as f:\n",
    "    dot_graph = f.read()\n",
    "  \n",
    "s = Source.from_file(\"tree_video_sharing_no_time.dot\")\n",
    "s.view()"
   ]
  },
  {
   "cell_type": "markdown",
   "metadata": {},
   "source": [
    "This gets more interesting.\n",
    "Video_length is crucial. Shorter videos are better. Interesting, there seems to be clear cut-offs around 13 minutes (791 seconds), 7 minutes (399 seconds), 21 minutes (1290 seconds). The shorter the video, always the higher is the probability of being hot\n",
    "Language doesn’t appear as relevant as video_length. However we can see that English always leads to higher probability of a video being hot. On the other hand, language “other” leads to lower probability.\n",
    "It could be interesting now to validate these findings by building a random forest and look at the partial dependence plots. In general, RF is a better model compared to a single tree (obviously), so we would expect RF findings to be a bit more detailed."
   ]
  },
  {
   "cell_type": "markdown",
   "metadata": {},
   "source": [
    "Q: After having identified the characteristics of the hot videos, how would you use this information from a product standpoint?"
   ]
  },
  {
   "cell_type": "markdown",
   "metadata": {},
   "source": [
    "Let’s take video_length as an example here. Obviously, the goal is to have users upload shorter videos. Specifically, we found out that less than 7 minutes is an optimal time_length and > 21 minutes is extremely bad. There are three possible approaches here:\n",
    "\n",
    "1 Run a test where you only allow users to upload a video if length is smaller than a given threshold and see what happens (this is a particularly aggressive approach and rarely gets implemented)\n",
    "\n",
    "2 If a user uploads a video that has bad characteristics (i.e. too long), have a pop-up/notification telling them that if their video had certain characteristics (i.e. shorter), they could get X% more views and, therefore, make Y% more money in ads-revenue. Test it and see what happens (this is far more common than point 1)\n",
    "\n",
    "3A hybrid of point 1 and 2. I.e. if a video is > 21 minutes, don’t allow the user to upload it. If it is <21 minutes, but >7 minutes, have the pop-up with the suggestion"
   ]
  },
  {
   "cell_type": "code",
   "execution_count": null,
   "metadata": {},
   "outputs": [],
   "source": []
  }
 ],
 "metadata": {
  "kernelspec": {
   "display_name": "Python 3",
   "language": "python",
   "name": "python3"
  },
  "language_info": {
   "codemirror_mode": {
    "name": "ipython",
    "version": 3
   },
   "file_extension": ".py",
   "mimetype": "text/x-python",
   "name": "python",
   "nbconvert_exporter": "python",
   "pygments_lexer": "ipython3",
   "version": "3.7.3"
  }
 },
 "nbformat": 4,
 "nbformat_minor": 2
}
